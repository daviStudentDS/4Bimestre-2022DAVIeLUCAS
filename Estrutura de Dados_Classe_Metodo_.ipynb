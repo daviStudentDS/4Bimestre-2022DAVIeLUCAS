{
  "nbformat": 4,
  "nbformat_minor": 0,
  "metadata": {
    "colab": {
      "provenance": [],
      "authorship_tag": "ABX9TyOA65piGjyKqsb7wSGvezel",
      "include_colab_link": true
    },
    "kernelspec": {
      "name": "python3",
      "display_name": "Python 3"
    },
    "language_info": {
      "name": "python"
    }
  },
  "cells": [
    {
      "cell_type": "markdown",
      "metadata": {
        "id": "view-in-github",
        "colab_type": "text"
      },
      "source": [
        "<a href=\"https://colab.research.google.com/github/daviStudentDS/4Bimestre-2022DAVIeLUCAS/blob/main/Estrutura%20de%20Dados_Classe_Metodo_.ipynb\" target=\"_parent\"><img src=\"https://colab.research.google.com/assets/colab-badge.svg\" alt=\"Open In Colab\"/></a>"
      ]
    },
    {
      "cell_type": "markdown",
      "source": [
        "#**ESTRUTURAS DE DADOS: **\n",
        "\n",
        "Implementação das estruturas Fila (FIFO - First In First Out) e Pilha (LIFO - Last In First Out)\n",
        "\n"
      ],
      "metadata": {
        "id": "7ieo0r8r_bQo"
      }
    },
    {
      "cell_type": "markdown",
      "source": [
        "#**FIFO - FILA: **\n",
        "Implementação com a biblioteca\n",
        "Collections, escrevendo as funcionalidades\n",
        "\"Enqueue\", \"Dequeue\", \"isEmpty\""
      ],
      "metadata": {
        "id": "N4oxbRdcAeAv"
      }
    },
    {
      "cell_type": "markdown",
      "source": [],
      "metadata": {
        "id": "WqT6I27GZNAd"
      }
    },
    {
      "cell_type": "code",
      "source": [
        "from collections import deque\n",
        "\n",
        "class Fila:\n",
        "  # nome=' '\n",
        "  # idade = 0\n",
        "  #Método principal invocado para instanciar o objeto\n",
        "  def __init__(self):\n",
        "    self.itens = deque()\n",
        "\n",
        "\n",
        "  #Método para inserir um elemneto na fila\n",
        "  def enqueue(self, itens):\n",
        "    self.itens.append(itens)\n",
        "    self.itens\n",
        "\n",
        "  #Método para remover um elemento da fila\n",
        "  def dequeue(self):\n",
        "    return self.itens.popleft()\n",
        "\n",
        "  #Método para verificar se a fila está vazia\n",
        "  def isEmpty(self):\n",
        "    return len(self.itens) == 0\n",
        "\n",
        "  #Método para retornar o tamamnho da fila - Qnte de elementos\n",
        "  def size(self):\n",
        "    return len(self.itens)\n",
        "\n",
        "  #Método para exibir todo o conteúdo da fila\n",
        "  def showFIFO(self):\n",
        "    print(self.itens)\n",
        "\n",
        "\n",
        "  #Uso da clase fila - Declaração de objetos\n",
        "  fila = Fila()\n",
        "  fila2 = Fila()\n",
        "\n",
        "  #fila\n",
        "  fila.enqueue(10)\n",
        "  fila.enqueue(20)\n",
        "  fila.enqueue(30)\n",
        "  fila.enqueue(40)\n",
        "  fila.enqueue(50)\n",
        "  fila.enqueue(60)\n",
        "  print(f'O número de elementos atual na fila 1 é: {fila.size()}')\n",
        "  fila.showFIFO()\n",
        "\n",
        "  fila.dequeue()\n",
        "  print(f'O número de elementos atual na fila 1 é: {fila.size()}')\n",
        "  fila.showFIFO()\n",
        "\n",
        "\n",
        "  #fila2\n",
        "  fila2.enqueue(11)\n",
        "  fila2.enqueue(21)\n",
        "  fila2.enqueue(31)\n",
        "  fila2.enqueue(41)\n",
        "  print(f'O número de elementos atual na fila 2 é: {fila2.size()}')\n",
        "  fila2.showFIFO()\n",
        "\n",
        "  fila2.dequeue()\n",
        "  print(f'O número de elementos atual na fila 2 é: {fila2.size()}')\n",
        "  fila2.showFIFO()"
      ],
      "metadata": {
        "colab": {
          "base_uri": "https://localhost:8080/"
        },
        "id": "NgnirdpXHz_3",
        "outputId": "841ebfc7-7945-40d8-cded-b732a4a3ad60"
      },
      "execution_count": 23,
      "outputs": [
        {
          "output_type": "stream",
          "name": "stdout",
          "text": [
            "O número de elementos atual na fila 1 é: 6\n",
            "deque([10, 20, 30, 40, 50, 60])\n",
            "O número de elementos atual na fila 1 é: 5\n",
            "deque([20, 30, 40, 50, 60])\n",
            "O número de elementos atual na fila 2 é: 4\n",
            "deque([11, 21, 31, 41])\n",
            "O número de elementos atual na fila 2 é: 3\n",
            "deque([21, 31, 41])\n"
          ]
        }
      ]
    },
    {
      "cell_type": "markdown",
      "source": [
        "#**LIFO - PILHA: **\n",
        "Implementação com a biblioteca\n",
        "Collections, escrevendo as funcionalidades\n",
        "\"pop\", \"push\", \"isEmpty\", \"top\""
      ],
      "metadata": {
        "id": "iHHv5T2jZUGF"
      }
    },
    {
      "cell_type": "code",
      "source": [
        "class Pilha:\n",
        "\n",
        "  #Método que instancia um objeto do tipo pilha em memória\n",
        "  def __init__(self):\n",
        "    self.element = []\n",
        "\n",
        "  #Método para inserir um elemento no topo da pilha\n",
        "  def push(self, element):\n",
        "    self.element.append(element)\n",
        "\n",
        "  #Método que retira o elemento que está no topo da pilha\n",
        "  def pop(self):\n",
        "    return self.element.pop()\n",
        "\n",
        "  #Método que verifica se a pilha está vazia\n",
        "  def isEmpty(self):\n",
        "    return self.element == []\n",
        "\n",
        "  #Método que retorna o elemento que está no topo da pilha\n",
        "  def top(self):\n",
        "    return self.element[-1]\n",
        "\n",
        "  #Método que retorna quantos elementos tem na pilha\n",
        "  def size(self):\n",
        "    return len(self.element)\n",
        "\n",
        "  #Método que exibe todo o conteúdo da pilha\n",
        "  def showLIFO(self):\n",
        "    print(self.element)\n",
        "\n",
        "  #Testando funcionamento da classe pilha\n",
        "macaco = Pilha()\n",
        "lgbt = Pilha()\n",
        "\n",
        "macaco.push(2)\n",
        "macaco.push(12)\n",
        "macaco.push(222)\n",
        "macaco.push(1333)\n",
        "macaco.showLIFO()\n",
        "print(f'O número de elementos atual na pilha 2 é: {macaco.size()}')\n",
        "macaco.pop()\n",
        "macaco.showLIFO()\n",
        "print(f'O número de elementos atual na pilha 2 é: {macaco.size()}')\n",
        "\n",
        "macaco.top()\n",
        "\n",
        "\n",
        "\n",
        ""
      ],
      "metadata": {
        "colab": {
          "base_uri": "https://localhost:8080/"
        },
        "id": "f7YlX9XlZ1Gd",
        "outputId": "41898b08-6134-4d2d-b236-d2bb1015353d"
      },
      "execution_count": 35,
      "outputs": [
        {
          "output_type": "stream",
          "name": "stdout",
          "text": [
            "[2, 12, 222, 1333]\n",
            "O número de elementos atual na pilha 2 é: 4\n",
            "[2, 12, 222]\n",
            "O número de elementos atual na pilha 2 é: 3\n"
          ]
        },
        {
          "output_type": "execute_result",
          "data": {
            "text/plain": [
              "222"
            ]
          },
          "metadata": {},
          "execution_count": 35
        }
      ]
    }
  ]
}