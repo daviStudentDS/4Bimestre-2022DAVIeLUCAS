{
  "nbformat": 4,
  "nbformat_minor": 0,
  "metadata": {
    "colab": {
      "provenance": [],
      "authorship_tag": "ABX9TyMGKhBGA03i15IfJggOiSBg",
      "include_colab_link": true
    },
    "kernelspec": {
      "name": "python3",
      "display_name": "Python 3"
    },
    "language_info": {
      "name": "python"
    }
  },
  "cells": [
    {
      "cell_type": "markdown",
      "metadata": {
        "id": "view-in-github",
        "colab_type": "text"
      },
      "source": [
        "<a href=\"https://colab.research.google.com/github/daviStudentDS/4Bimestre-2022DAVIeLUCAS/blob/main/Corre%C3%A7%C3%A3o_P1_14_05_implementa%C3%A7%C3%A3o.ipynb\" target=\"_parent\"><img src=\"https://colab.research.google.com/assets/colab-badge.svg\" alt=\"Open In Colab\"/></a>"
      ]
    },
    {
      "cell_type": "markdown",
      "source": [
        "#**Correção da primeira avaliação - P1:\n",
        "\n",
        "O objetivo da avaliação foi mensurar os conhecimentos adquiridos pelos alunos em relação às estruturas de dados lista, fila, pilha e também algorítmos explorando a lógica de programação utilizando a linguagem Python.\n"
      ],
      "metadata": {
        "id": "Ye45uOFlVr8Z"
      }
    },
    {
      "cell_type": "markdown",
      "source": [
        "#**Questão 2"
      ],
      "metadata": {
        "id": "DVeaGleDdPhu"
      }
    },
    {
      "cell_type": "code",
      "source": [
        "# Função para a brincadeira do PIM\n",
        "\n",
        "def pim(cont):\n",
        "  if cont >= limite:\n",
        "    if cont %4 == 0:\n",
        "      print(f'PIM')\n",
        "    elif cont == limite:\n",
        "      print(f'{cont}')\n",
        "    return cont\n",
        "\n",
        "  if cont%4 == 0:\n",
        "    cont = cont + 1\n",
        "    print(f'PIM', end = \" \")\n",
        "\n",
        "\n",
        "  print(f'{cont}', end = \" \")\n",
        "  cont = cont + 1\n",
        "  pim(cont) # Invoke da função recursiva dentro dela mesma\n",
        "\n",
        "\n",
        "cont = 1\n",
        "limite = int(input(\"Digite a quantidade para a contagem do PIM:\"))\n",
        "pim(cont) # O primeiro invoke da função pim para entrar na recursividade"
      ],
      "metadata": {
        "colab": {
          "base_uri": "https://localhost:8080/"
        },
        "id": "E-K5cw2QXyro",
        "outputId": "5d3fdbae-daef-446f-847a-888b9e6dddeb"
      },
      "execution_count": null,
      "outputs": [
        {
          "output_type": "stream",
          "name": "stdout",
          "text": [
            "Digite a quantidade para a contagem do PIM:24\n",
            "1 2 3 PIM 5 6 7 PIM 9 10 11 PIM 13 14 15 PIM 17 18 19 PIM 21 22 23 PIM\n"
          ]
        }
      ]
    },
    {
      "cell_type": "markdown",
      "source": [
        "#**Questão 3"
      ],
      "metadata": {
        "id": "kA4EXRbgdWEW"
      }
    },
    {
      "cell_type": "code",
      "source": [
        "# Função para incrementar valores em um array unidimensional\n",
        "\n",
        "import numpy as np\n",
        "tam = int(input(\"Digite o tamanho do vetor: \"))\n",
        "vetor = np.empty(tam) # Neste caso o mais ideal é usar o .empty para iniciar o array como vazio, mas pode ser usado também o .array\n",
        "\n",
        "for i in range(tam):\n",
        "  vetor[i] = float(input(\"Digite um número real: \"))\n",
        "\n",
        "print(f'Vetor original: {vetor}')\n",
        "\n",
        "\n",
        "print(f'Vetor na ordem inversa: [ ', end = \" \")\n",
        "for i in range (len(vetor)):\n",
        "  print(f'{vetor[tam-1-i]} ', end = \" \")\n",
        "print(']')"
      ],
      "metadata": {
        "colab": {
          "base_uri": "https://localhost:8080/"
        },
        "id": "2-bkxLNsc-Nv",
        "outputId": "656f480e-4239-4c7d-8071-97a6e11fcc01"
      },
      "execution_count": null,
      "outputs": [
        {
          "output_type": "stream",
          "name": "stdout",
          "text": [
            "Digite o tamanho do vetor: 4\n",
            "Digite um número real: 3.8\n",
            "Digite um número real: 4.9\n",
            "Digite um número real: 5.8\n",
            "Digite um número real: 9.7\n",
            "Vetor original: [3.8 4.9 5.8 9.7]\n",
            "Vetor na ordem inversa: [  9.7  5.8  4.9  3.8  ]\n"
          ]
        }
      ]
    },
    {
      "cell_type": "markdown",
      "source": [
        "#**QUESTÃO 4**\n",
        "\n"
      ],
      "metadata": {
        "id": "c5iCEwXIG12q"
      }
    },
    {
      "cell_type": "code",
      "source": [
        "cop = -25\n",
        "psy = 3\n",
        "gal = 29\n",
        "i = 4\n",
        "cont = 0\n",
        "\n",
        "while psy < gal:\n",
        "  cop = cop + i\n",
        "  psy = psy + cop\n",
        "  gal = gal - cop\n",
        "  i = i + 1\n",
        "  count +\n",
        "\n"
      ],
      "metadata": {
        "id": "jPdULBn1HQPp"
      },
      "execution_count": null,
      "outputs": []
    },
    {
      "cell_type": "code",
      "source": [
        "# ## FAZER UM PROGRAMA QUE IMPLEMENTE A FILA EM UM PROGRAMA PARA SIMULAR UMA FILA COM 6 NÚMEROS DENTRO DE UM VETOR NO QUAL NECESSÍTA DO TESTE PARA SABER\n",
        "# ## [15, 23, 19, 52, 14, 7]   * - TESTE FILA VAZIA   * TESTE FILA CHEIA\n",
        "\n",
        "# import numpy as np\n",
        "\n",
        "# tamanhoMax = 6\n",
        "# fila = np.array([], dtype=int)\n",
        "# pilha = np.array([], dtype=int)\n",
        "\n",
        "# option = int(input(\"Digite 1 para inserir os elementos dentro de uma fila ou digite 2 para inserir os elementos dentro de uma pilha ou digite 0 para encerrar: \"))\n",
        "\n",
        "# if option == 1:\n",
        "\n",
        "#     if len(fila) == 0:\n",
        "#         print(\"Fila Vazia\")\n",
        "\n",
        "#     while len(fila) < tamanhoMax:\n",
        "#         adc = int(input(\"Digite um valor para adicionar na fila: \"))\n",
        "#         fila = np.append(fila, adc)\n",
        "#         print(f\"Valor adicionado: {adc}. Fila atual: {fila}\")\n",
        "\n",
        "#         if len(fila) == tamanhoMax:\n",
        "#             print(\"Fila Cheia\")\n",
        "\n",
        "#     print(\"Removendo elementos da fila...\")\n",
        "#     while len(fila) > 0:\n",
        "#         removido = fila[0]\n",
        "#         fila = np.delete(fila, 0)\n",
        "#         print(f\"Valor removido: {removido}. Fila atual: {fila}\")\n",
        "\n",
        "#     if len(fila) == 0:\n",
        "#         print(\"Fila Vazia\")\n",
        "\n",
        "# elif option == 2:\n",
        "\n",
        "#     if len(pilha) == 0:\n",
        "#         print(\"Pilha Vazia\")\n",
        "\n",
        "#     while len(pilha) < tamanhoMax:\n",
        "#         valor = int(input(\"Digite um valor para empilhar: \"))\n",
        "#         pilha = np.append(pilha, valor)\n",
        "#         print(f\"Valor empilhado: {valor}. Pilha atual: {pilha}\")\n",
        "\n",
        "#         if len(pilha) == tamanhoMax:\n",
        "#             print(\"Pilha Cheia\")\n",
        "\n",
        "#     print(\"Desempilhando os elementos...\")\n",
        "#     while len(pilha) > 0:\n",
        "#         removido = pilha[-1]\n",
        "#         pilha = np.delete(pilha, -1)\n",
        "#         print(f\"Valor removido: {removido}. Pilha atual: {pilha}\")\n",
        "\n",
        "#     if len(pilha) == 0:\n",
        "#         print(\"Pilha Vazia\")\n",
        "\n",
        "# elif option == 0:\n",
        "#     print(\"Encerrando programa.\")\n",
        "\n",
        "# else:\n",
        "#     print(\"Opção inválida.\")\n",
        "\n",
        "\n",
        "## FAZER UM PROGRAMA QUE IMPLEMENTE A FILA EM UM PROGRAMA PARA SIMULAR UMA FILA COM 6 NÚMEROS DENTRO DE UM VETOR NO QUAL NECESSÍTA DO TESTE PARA SABER\n",
        "## [15, 23, 19, 52, 14, 7]   * - TESTE FILA VAZIA   * TESTE FILA CHEIA\n",
        "\n",
        "import numpy as np\n",
        "\n",
        "\n",
        "def PilharFilar():\n",
        "\n",
        "  tamanhoMax = 6\n",
        "  fila = np.array([], dtype=int)\n",
        "  pilha = np.array([], dtype=int)\n",
        "  option = int(input(\"Digite 1 para inserir os elementos dentro de uma fila ou digite 2 para inserir os elementos dentro de uma pilha ou digite 0 para encerrar: \"))\n",
        "\n",
        "  if option == 1:\n",
        "\n",
        "      if len(fila) == 0:\n",
        "          print(\"Fila Vazia\")\n",
        "\n",
        "      while len(fila) < tamanhoMax:\n",
        "          adc = int(input(\"Digite um valor para adicionar na fila: \"))\n",
        "          fila = np.append(fila, adc)\n",
        "          print(f\"Valor adicionado: {adc}. Fila atual: {fila}\")\n",
        "\n",
        "          if len(fila) == tamanhoMax:\n",
        "              print(\"Fila Cheia\")\n",
        "\n",
        "      print(\"Removendo elementos da fila...\")\n",
        "      while len(fila) > 0:\n",
        "          removido = fila[0]\n",
        "          fila = np.delete(fila, 0)\n",
        "          print(f\"Valor removido: {removido}. Fila atual: {fila}\")\n",
        "\n",
        "      if len(fila) == 0:\n",
        "          print(\"Fila Vazia\")\n",
        "\n",
        "      print(PilharFilar())\n",
        "\n",
        "  elif option == 2:\n",
        "\n",
        "      if len(pilha) == 0:\n",
        "          print(\"Pilha Vazia\")\n",
        "\n",
        "      while len(pilha) < tamanhoMax:\n",
        "          valor = int(input(\"Digite um valor para empilhar: \"))\n",
        "          pilha = np.append(pilha, valor)\n",
        "          print(f\"Valor empilhado: {valor}. Pilha atual: {pilha}\")\n",
        "\n",
        "          if len(pilha) == tamanhoMax:\n",
        "              print(\"Pilha Cheia\")\n",
        "\n",
        "\n",
        "      print(\"Desempilhando os elementos...\")\n",
        "      while len(pilha) > 0:\n",
        "          removido = pilha[-1]\n",
        "          pilha = np.delete(pilha, -1)\n",
        "          print(f\"Valor removido: {removido}. Pilha atual: {pilha}\")\n",
        "\n",
        "      if len(pilha) == 0:\n",
        "          print(\"Pilha Vazia\")\n",
        "\n",
        "      print(PilharFilar())\n",
        "\n",
        "  elif option == 0:\n",
        "      print(\"Encerrando programa.\")\n",
        "      return False\n",
        "\n",
        "  else:\n",
        "      print(\"Opção inválida.\")\n",
        "      return True\n",
        "\n",
        "  print(PilharFilar())\n",
        "\n",
        "  return\n",
        "\n",
        "print(PilharFilar())"
      ],
      "metadata": {
        "colab": {
          "base_uri": "https://localhost:8080/",
          "height": 877
        },
        "id": "aD7h_oGMUn2G",
        "outputId": "d9149903-b390-495d-bbfb-576d8c3d345d"
      },
      "execution_count": 12,
      "outputs": [
        {
          "metadata": {
            "tags": null
          },
          "name": "stdout",
          "output_type": "stream",
          "text": [
            "Fila Vazia\n",
            "Valor adicionado: 1. Fila atual: [1]\n",
            "Valor adicionado: 2. Fila atual: [1 2]\n",
            "Valor adicionado: 3. Fila atual: [1 2 3]\n",
            "Valor adicionado: 4. Fila atual: [1 2 3 4]\n",
            "Valor adicionado: 5. Fila atual: [1 2 3 4 5]\n",
            "Valor adicionado: 6. Fila atual: [1 2 3 4 5 6]\n",
            "Fila Cheia\n",
            "Removendo elementos da fila...\n",
            "Valor removido: 1. Fila atual: [2 3 4 5 6]\n",
            "Valor removido: 2. Fila atual: [3 4 5 6]\n",
            "Valor removido: 3. Fila atual: [4 5 6]\n",
            "Valor removido: 4. Fila atual: [5 6]\n",
            "Valor removido: 5. Fila atual: [6]\n",
            "Valor removido: 6. Fila atual: []\n",
            "Fila Vazia\n",
            "Pilha Vazia\n",
            "Valor empilhado: 4. Pilha atual: [4]\n",
            "Valor empilhado: 5. Pilha atual: [4 5]\n",
            "Valor empilhado: 6. Pilha atual: [4 5 6]\n",
            "Valor empilhado: 7. Pilha atual: [4 5 6 7]\n",
            "Valor empilhado: 8. Pilha atual: [4 5 6 7 8]\n",
            "Valor empilhado: 9. Pilha atual: [4 5 6 7 8 9]\n",
            "Pilha Cheia\n",
            "Desempilhando os elementos...\n",
            "Valor removido: 9. Pilha atual: [4 5 6 7 8]\n",
            "Valor removido: 8. Pilha atual: [4 5 6 7]\n",
            "Valor removido: 7. Pilha atual: [4 5 6]\n",
            "Valor removido: 6. Pilha atual: [4 5]\n",
            "Valor removido: 5. Pilha atual: [4]\n",
            "Valor removido: 4. Pilha atual: []\n",
            "Pilha Vazia\n"
          ]
        },
        {
          "output_type": "error",
          "ename": "KeyboardInterrupt",
          "evalue": "Interrupted by user",
          "traceback": [
            "\u001b[0;31m---------------------------------------------------------------------------\u001b[0m",
            "\u001b[0;31mKeyboardInterrupt\u001b[0m                         Traceback (most recent call last)",
            "\u001b[0;32m<ipython-input-12-f586e2d0b870>\u001b[0m in \u001b[0;36m<cell line: 0>\u001b[0;34m()\u001b[0m\n\u001b[1;32m    135\u001b[0m   \u001b[0;32mreturn\u001b[0m\u001b[0;34m\u001b[0m\u001b[0;34m\u001b[0m\u001b[0m\n\u001b[1;32m    136\u001b[0m \u001b[0;34m\u001b[0m\u001b[0m\n\u001b[0;32m--> 137\u001b[0;31m \u001b[0mprint\u001b[0m\u001b[0;34m(\u001b[0m\u001b[0mPilharFilar\u001b[0m\u001b[0;34m(\u001b[0m\u001b[0;34m)\u001b[0m\u001b[0;34m)\u001b[0m\u001b[0;34m\u001b[0m\u001b[0;34m\u001b[0m\u001b[0m\n\u001b[0m",
            "\u001b[0;32m<ipython-input-12-f586e2d0b870>\u001b[0m in \u001b[0;36mPilharFilar\u001b[0;34m()\u001b[0m\n\u001b[1;32m     96\u001b[0m           \u001b[0mprint\u001b[0m\u001b[0;34m(\u001b[0m\u001b[0;34m\"Fila Vazia\"\u001b[0m\u001b[0;34m)\u001b[0m\u001b[0;34m\u001b[0m\u001b[0;34m\u001b[0m\u001b[0m\n\u001b[1;32m     97\u001b[0m \u001b[0;34m\u001b[0m\u001b[0m\n\u001b[0;32m---> 98\u001b[0;31m       \u001b[0mprint\u001b[0m\u001b[0;34m(\u001b[0m\u001b[0mPilharFilar\u001b[0m\u001b[0;34m(\u001b[0m\u001b[0;34m)\u001b[0m\u001b[0;34m)\u001b[0m\u001b[0;34m\u001b[0m\u001b[0;34m\u001b[0m\u001b[0m\n\u001b[0m\u001b[1;32m     99\u001b[0m \u001b[0;34m\u001b[0m\u001b[0m\n\u001b[1;32m    100\u001b[0m   \u001b[0;32melif\u001b[0m \u001b[0moption\u001b[0m \u001b[0;34m==\u001b[0m \u001b[0;36m2\u001b[0m\u001b[0;34m:\u001b[0m\u001b[0;34m\u001b[0m\u001b[0;34m\u001b[0m\u001b[0m\n",
            "\u001b[0;32m<ipython-input-12-f586e2d0b870>\u001b[0m in \u001b[0;36mPilharFilar\u001b[0;34m()\u001b[0m\n\u001b[1;32m    121\u001b[0m           \u001b[0mprint\u001b[0m\u001b[0;34m(\u001b[0m\u001b[0;34m\"Pilha Vazia\"\u001b[0m\u001b[0;34m)\u001b[0m\u001b[0;34m\u001b[0m\u001b[0;34m\u001b[0m\u001b[0m\n\u001b[1;32m    122\u001b[0m \u001b[0;34m\u001b[0m\u001b[0m\n\u001b[0;32m--> 123\u001b[0;31m       \u001b[0mprint\u001b[0m\u001b[0;34m(\u001b[0m\u001b[0mPilharFilar\u001b[0m\u001b[0;34m(\u001b[0m\u001b[0;34m)\u001b[0m\u001b[0;34m)\u001b[0m\u001b[0;34m\u001b[0m\u001b[0;34m\u001b[0m\u001b[0m\n\u001b[0m\u001b[1;32m    124\u001b[0m \u001b[0;34m\u001b[0m\u001b[0m\n\u001b[1;32m    125\u001b[0m   \u001b[0;32melif\u001b[0m \u001b[0moption\u001b[0m \u001b[0;34m==\u001b[0m \u001b[0;36m0\u001b[0m\u001b[0;34m:\u001b[0m\u001b[0;34m\u001b[0m\u001b[0;34m\u001b[0m\u001b[0m\n",
            "\u001b[0;32m<ipython-input-12-f586e2d0b870>\u001b[0m in \u001b[0;36mPilharFilar\u001b[0;34m()\u001b[0m\n\u001b[1;32m     72\u001b[0m   \u001b[0mfila\u001b[0m \u001b[0;34m=\u001b[0m \u001b[0mnp\u001b[0m\u001b[0;34m.\u001b[0m\u001b[0marray\u001b[0m\u001b[0;34m(\u001b[0m\u001b[0;34m[\u001b[0m\u001b[0;34m]\u001b[0m\u001b[0;34m,\u001b[0m \u001b[0mdtype\u001b[0m\u001b[0;34m=\u001b[0m\u001b[0mint\u001b[0m\u001b[0;34m)\u001b[0m\u001b[0;34m\u001b[0m\u001b[0;34m\u001b[0m\u001b[0m\n\u001b[1;32m     73\u001b[0m   \u001b[0mpilha\u001b[0m \u001b[0;34m=\u001b[0m \u001b[0mnp\u001b[0m\u001b[0;34m.\u001b[0m\u001b[0marray\u001b[0m\u001b[0;34m(\u001b[0m\u001b[0;34m[\u001b[0m\u001b[0;34m]\u001b[0m\u001b[0;34m,\u001b[0m \u001b[0mdtype\u001b[0m\u001b[0;34m=\u001b[0m\u001b[0mint\u001b[0m\u001b[0;34m)\u001b[0m\u001b[0;34m\u001b[0m\u001b[0;34m\u001b[0m\u001b[0m\n\u001b[0;32m---> 74\u001b[0;31m   \u001b[0moption\u001b[0m \u001b[0;34m=\u001b[0m \u001b[0mint\u001b[0m\u001b[0;34m(\u001b[0m\u001b[0minput\u001b[0m\u001b[0;34m(\u001b[0m\u001b[0;34m\"Digite 1 para inserir os elementos dentro de uma fila ou digite 2 para inserir os elementos dentro de uma pilha ou digite 0 para encerrar: \"\u001b[0m\u001b[0;34m)\u001b[0m\u001b[0;34m)\u001b[0m\u001b[0;34m\u001b[0m\u001b[0;34m\u001b[0m\u001b[0m\n\u001b[0m\u001b[1;32m     75\u001b[0m \u001b[0;34m\u001b[0m\u001b[0m\n\u001b[1;32m     76\u001b[0m   \u001b[0;32mif\u001b[0m \u001b[0moption\u001b[0m \u001b[0;34m==\u001b[0m \u001b[0;36m1\u001b[0m\u001b[0;34m:\u001b[0m\u001b[0;34m\u001b[0m\u001b[0;34m\u001b[0m\u001b[0m\n",
            "\u001b[0;32m/usr/local/lib/python3.11/dist-packages/ipykernel/kernelbase.py\u001b[0m in \u001b[0;36mraw_input\u001b[0;34m(self, prompt)\u001b[0m\n\u001b[1;32m   1175\u001b[0m                 \u001b[0;34m\"raw_input was called, but this frontend does not support input requests.\"\u001b[0m\u001b[0;34m\u001b[0m\u001b[0;34m\u001b[0m\u001b[0m\n\u001b[1;32m   1176\u001b[0m             )\n\u001b[0;32m-> 1177\u001b[0;31m         return self._input_request(\n\u001b[0m\u001b[1;32m   1178\u001b[0m             \u001b[0mstr\u001b[0m\u001b[0;34m(\u001b[0m\u001b[0mprompt\u001b[0m\u001b[0;34m)\u001b[0m\u001b[0;34m,\u001b[0m\u001b[0;34m\u001b[0m\u001b[0;34m\u001b[0m\u001b[0m\n\u001b[1;32m   1179\u001b[0m             \u001b[0mself\u001b[0m\u001b[0;34m.\u001b[0m\u001b[0m_parent_ident\u001b[0m\u001b[0;34m[\u001b[0m\u001b[0;34m\"shell\"\u001b[0m\u001b[0;34m]\u001b[0m\u001b[0;34m,\u001b[0m\u001b[0;34m\u001b[0m\u001b[0;34m\u001b[0m\u001b[0m\n",
            "\u001b[0;32m/usr/local/lib/python3.11/dist-packages/ipykernel/kernelbase.py\u001b[0m in \u001b[0;36m_input_request\u001b[0;34m(self, prompt, ident, parent, password)\u001b[0m\n\u001b[1;32m   1217\u001b[0m             \u001b[0;32mexcept\u001b[0m \u001b[0mKeyboardInterrupt\u001b[0m\u001b[0;34m:\u001b[0m\u001b[0;34m\u001b[0m\u001b[0;34m\u001b[0m\u001b[0m\n\u001b[1;32m   1218\u001b[0m                 \u001b[0;31m# re-raise KeyboardInterrupt, to truncate traceback\u001b[0m\u001b[0;34m\u001b[0m\u001b[0;34m\u001b[0m\u001b[0m\n\u001b[0;32m-> 1219\u001b[0;31m                 \u001b[0;32mraise\u001b[0m \u001b[0mKeyboardInterrupt\u001b[0m\u001b[0;34m(\u001b[0m\u001b[0;34m\"Interrupted by user\"\u001b[0m\u001b[0;34m)\u001b[0m \u001b[0;32mfrom\u001b[0m \u001b[0;32mNone\u001b[0m\u001b[0;34m\u001b[0m\u001b[0;34m\u001b[0m\u001b[0m\n\u001b[0m\u001b[1;32m   1220\u001b[0m             \u001b[0;32mexcept\u001b[0m \u001b[0mException\u001b[0m\u001b[0;34m:\u001b[0m\u001b[0;34m\u001b[0m\u001b[0;34m\u001b[0m\u001b[0m\n\u001b[1;32m   1221\u001b[0m                 \u001b[0mself\u001b[0m\u001b[0;34m.\u001b[0m\u001b[0mlog\u001b[0m\u001b[0;34m.\u001b[0m\u001b[0mwarning\u001b[0m\u001b[0;34m(\u001b[0m\u001b[0;34m\"Invalid Message:\"\u001b[0m\u001b[0;34m,\u001b[0m \u001b[0mexc_info\u001b[0m\u001b[0;34m=\u001b[0m\u001b[0;32mTrue\u001b[0m\u001b[0;34m)\u001b[0m\u001b[0;34m\u001b[0m\u001b[0;34m\u001b[0m\u001b[0m\n",
            "\u001b[0;31mKeyboardInterrupt\u001b[0m: Interrupted by user"
          ]
        }
      ]
    }
  ]
}