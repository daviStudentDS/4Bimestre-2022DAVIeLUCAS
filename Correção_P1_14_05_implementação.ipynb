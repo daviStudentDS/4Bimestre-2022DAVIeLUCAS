{
  "nbformat": 4,
  "nbformat_minor": 0,
  "metadata": {
    "colab": {
      "provenance": [],
      "authorship_tag": "ABX9TyNaHx8Xh+icYzv0KtN9mBxi",
      "include_colab_link": true
    },
    "kernelspec": {
      "name": "python3",
      "display_name": "Python 3"
    },
    "language_info": {
      "name": "python"
    }
  },
  "cells": [
    {
      "cell_type": "markdown",
      "metadata": {
        "id": "view-in-github",
        "colab_type": "text"
      },
      "source": [
        "<a href=\"https://colab.research.google.com/github/daviStudentDS/4Bimestre-2022DAVIeLUCAS/blob/main/Corre%C3%A7%C3%A3o_P1_14_05_implementa%C3%A7%C3%A3o.ipynb\" target=\"_parent\"><img src=\"https://colab.research.google.com/assets/colab-badge.svg\" alt=\"Open In Colab\"/></a>"
      ]
    },
    {
      "cell_type": "markdown",
      "source": [
        "#**Correção da primeira avaliação - P1:\n",
        "\n",
        "O objetivo da avaliação foi mensurar os conhecimentos adquiridos pelos alunos em relação às estruturas de dados lista, fila, pilha e também algorítmos explorando a lógica de programação utilizando a linguagem Python.\n"
      ],
      "metadata": {
        "id": "Ye45uOFlVr8Z"
      }
    },
    {
      "cell_type": "markdown",
      "source": [
        "#**Questão 2"
      ],
      "metadata": {
        "id": "DVeaGleDdPhu"
      }
    },
    {
      "cell_type": "code",
      "source": [
        "# Função para a brincadeira do PIM\n",
        "\n",
        "def pim(cont):\n",
        "  if cont >= limite:\n",
        "    if cont %4 == 0:\n",
        "      print(f'PIM')\n",
        "    elif cont == limite:\n",
        "      print(f'{cont}')\n",
        "    return cont\n",
        "\n",
        "  if cont%4 == 0:\n",
        "    cont = cont + 1\n",
        "    print(f'PIM', end = \" \")\n",
        "\n",
        "\n",
        "  print(f'{cont}', end = \" \")\n",
        "  cont = cont + 1\n",
        "  pim(cont) # Invoke da função recursiva dentro dela mesma\n",
        "\n",
        "\n",
        "cont = 1\n",
        "limite = int(input(\"Digite a quantidade para a contagem do PIM:\"))\n",
        "pim(cont) # O primeiro invoke da função pim para entrar na recursividade"
      ],
      "metadata": {
        "colab": {
          "base_uri": "https://localhost:8080/"
        },
        "id": "E-K5cw2QXyro",
        "outputId": "5d3fdbae-daef-446f-847a-888b9e6dddeb"
      },
      "execution_count": null,
      "outputs": [
        {
          "output_type": "stream",
          "name": "stdout",
          "text": [
            "Digite a quantidade para a contagem do PIM:24\n",
            "1 2 3 PIM 5 6 7 PIM 9 10 11 PIM 13 14 15 PIM 17 18 19 PIM 21 22 23 PIM\n"
          ]
        }
      ]
    },
    {
      "cell_type": "markdown",
      "source": [
        "#**Questão 3"
      ],
      "metadata": {
        "id": "kA4EXRbgdWEW"
      }
    },
    {
      "cell_type": "code",
      "source": [
        "# Função para incrementar valores em um array unidimensional\n",
        "\n",
        "import numpy as np\n",
        "tam = int(input(\"Digite o tamanho do vetor: \"))\n",
        "vetor = np.empty(tam) # Neste caso o mais ideal é usar o .empty para iniciar o array como vazio, mas pode ser usado também o .array\n",
        "\n",
        "for i in range(tam):\n",
        "  vetor[i] = float(input(\"Digite um número real: \"))\n",
        "\n",
        "print(f'Vetor original: {vetor}')\n",
        "\n",
        "\n",
        "print(f'Vetor na ordem inversa: [ ', end = \" \")\n",
        "for i in range (len(vetor)):\n",
        "  print(f'{vetor[tam-1-i]} ', end = \" \")\n",
        "print(']')"
      ],
      "metadata": {
        "colab": {
          "base_uri": "https://localhost:8080/"
        },
        "id": "2-bkxLNsc-Nv",
        "outputId": "656f480e-4239-4c7d-8071-97a6e11fcc01"
      },
      "execution_count": null,
      "outputs": [
        {
          "output_type": "stream",
          "name": "stdout",
          "text": [
            "Digite o tamanho do vetor: 4\n",
            "Digite um número real: 3.8\n",
            "Digite um número real: 4.9\n",
            "Digite um número real: 5.8\n",
            "Digite um número real: 9.7\n",
            "Vetor original: [3.8 4.9 5.8 9.7]\n",
            "Vetor na ordem inversa: [  9.7  5.8  4.9  3.8  ]\n"
          ]
        }
      ]
    },
    {
      "cell_type": "markdown",
      "source": [
        "#**QUESTÃO 4**\n",
        "\n"
      ],
      "metadata": {
        "id": "c5iCEwXIG12q"
      }
    },
    {
      "cell_type": "code",
      "source": [
        "cop = -25\n",
        "psy = 3\n",
        "gal = 29\n",
        "i = 4\n",
        "cont = 0\n",
        "\n",
        "while psy < gal:\n",
        "  cop = cop + i\n",
        "  psy = psy + cop\n",
        "  gal = gal - cop\n",
        "  i = i + 1\n",
        "  count +\n",
        "\n"
      ],
      "metadata": {
        "id": "jPdULBn1HQPp"
      },
      "execution_count": 7,
      "outputs": []
    },
    {
      "cell_type": "code",
      "source": [
        "## FAZER UM PROGRAMA QUE IMPLEMENTE A FILA EM UM PROGRAMA PARA SIMULAR UMA FILA COM 6 NÚMEROS DENTRO DE UM VETOR NO QUAL NECESSÍTA DO TESTE PARA SABER\n",
        "## [15, 23, 19, 52, 14, 7]   * - TESTE FILA VAZIA   * TESTE FILA CHEIA\n",
        "\n",
        "import numpy as np;\n",
        "\n",
        "vetor = np.array([], dtype=int)\n",
        "tamanhoMax = 6\n",
        "\n",
        "if len(vetor) == 0:\n",
        "  print(\"Fila Vazia\")\n",
        "\n",
        "while len(vetor) < tamanhoMax:\n",
        "    adc =  int(input(\"Digite um valor para adicionar\"))\n",
        "    vetor = np.append(vetor, adc)\n",
        "    print(f'o valor adicionado: {adc}, que foi adicionado dentro do vetor {vetor}.')\n",
        "\n",
        "    if len(vetor) == 6:\n",
        "      print(\"Fila Cheia\")\n",
        "\n",
        "\n",
        "\n",
        "\n"
      ],
      "metadata": {
        "colab": {
          "base_uri": "https://localhost:8080/"
        },
        "id": "aD7h_oGMUn2G",
        "outputId": "6be0c850-19a1-4f12-9673-29a9d590946d"
      },
      "execution_count": 18,
      "outputs": [
        {
          "output_type": "stream",
          "name": "stdout",
          "text": [
            "Fila Vazia\n",
            "Digite um valor para adicionar1\n",
            "o valor adicionado: 1, que foi adicionado dentro do vetor [1].\n",
            "Digite um valor para adicionar2\n",
            "o valor adicionado: 2, que foi adicionado dentro do vetor [1 2].\n",
            "Digite um valor para adicionar3\n",
            "o valor adicionado: 3, que foi adicionado dentro do vetor [1 2 3].\n",
            "Digite um valor para adicionar4\n",
            "o valor adicionado: 4, que foi adicionado dentro do vetor [1 2 3 4].\n",
            "Digite um valor para adicionar5\n",
            "o valor adicionado: 5, que foi adicionado dentro do vetor [1 2 3 4 5].\n",
            "Digite um valor para adicionar6\n",
            "o valor adicionado: 6, que foi adicionado dentro do vetor [1 2 3 4 5 6].\n",
            "Fila Cheia\n"
          ]
        }
      ]
    },
    {
      "cell_type": "markdown",
      "source": [],
      "metadata": {
        "id": "3J0hABJjV6St"
      }
    },
    {
      "cell_type": "markdown",
      "source": [],
      "metadata": {
        "id": "1cN8F2hqV2kG"
      }
    }
  ]
}