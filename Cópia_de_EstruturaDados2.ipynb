{
  "nbformat": 4,
  "nbformat_minor": 0,
  "metadata": {
    "colab": {
      "provenance": [],
      "include_colab_link": true
    },
    "kernelspec": {
      "name": "python3",
      "display_name": "Python 3"
    },
    "language_info": {
      "name": "python"
    }
  },
  "cells": [
    {
      "cell_type": "markdown",
      "metadata": {
        "id": "view-in-github",
        "colab_type": "text"
      },
      "source": [
        "<a href=\"https://colab.research.google.com/github/daviStudentDS/4Bimestre-2022DAVIeLUCAS/blob/main/C%C3%B3pia_de_EstruturaDados2.ipynb\" target=\"_parent\"><img src=\"https://colab.research.google.com/assets/colab-badge.svg\" alt=\"Open In Colab\"/></a>"
      ]
    },
    {
      "cell_type": "code",
      "execution_count": null,
      "metadata": {
        "colab": {
          "base_uri": "https://localhost:8080/"
        },
        "id": "U6xXd0slXJ-_",
        "outputId": "b83baf47-7dca-4880-dd32-62d63077e5cb"
      },
      "outputs": [
        {
          "output_type": "stream",
          "name": "stdout",
          "text": [
            "[23, 7, 13, 28, 14]\n",
            "['São Paulo', 'Jundiaí', 'Stna Parníba', 'Cajamar', 'Barueri']\n"
          ]
        }
      ],
      "source": [
        "lista1 = [23, 7 ,13, 28, 14]\n",
        "lista2 = [\"São Paulo\", \"Jundiaí\", \"Stna Parníba\", \"Cajamar\", \"Barueri\"]\n",
        "print(lista1)\n",
        "print(lista2)"
      ]
    },
    {
      "cell_type": "code",
      "source": [
        "# Substituindo um elemento da lista\n",
        "print(lista1[3])\n",
        "lista1[3] = 300\n",
        "print(lista1)"
      ],
      "metadata": {
        "colab": {
          "base_uri": "https://localhost:8080/"
        },
        "id": "_JDRsgVHaSPJ",
        "outputId": "69789ade-3517-4f24-eeb8-4538adb198bd"
      },
      "execution_count": null,
      "outputs": [
        {
          "output_type": "stream",
          "name": "stdout",
          "text": [
            "28\n",
            "[23, 7, 13, 300, 14]\n"
          ]
        }
      ]
    },
    {
      "cell_type": "code",
      "source": [
        "# Adicionar um elemento na lista\n",
        "lista1.append(555)\n",
        "print(lista1)"
      ],
      "metadata": {
        "colab": {
          "base_uri": "https://localhost:8080/"
        },
        "id": "0EcRnAi6ba12",
        "outputId": "d05fb779-7d30-4028-b929-a9ef478e1cea"
      },
      "execution_count": null,
      "outputs": [
        {
          "output_type": "stream",
          "name": "stdout",
          "text": [
            "[23, 7, 13, 300, 14, 555]\n"
          ]
        }
      ]
    },
    {
      "cell_type": "code",
      "source": [
        "# Adicionar um elemento em uma posição específica em uma lista\n",
        "print(lista1)\n",
        "lista1.insert(2, 1000)\n",
        "print(lista1)\n",
        "lista1.insert(4, 111)\n",
        "print(lista1)"
      ],
      "metadata": {
        "colab": {
          "base_uri": "https://localhost:8080/"
        },
        "id": "weLZhig0cO7p",
        "outputId": "b329a7eb-610a-4dd1-d23c-4928c2ee2a70"
      },
      "execution_count": null,
      "outputs": [
        {
          "output_type": "stream",
          "name": "stdout",
          "text": [
            "[23, 7, 1000, 13, 28, 14]\n",
            "[23, 7, 1000, 1000, 111, 13, 28, 14]\n"
          ]
        }
      ]
    },
    {
      "cell_type": "code",
      "source": [
        "pronomes = [\"Eu\", \"Tu\", \"Ele\", \"Nós\", \"Vós\", \"Eles\"]\n",
        "print(pronomes)\n",
        "pronomes.append(\"Pessoas\")\n",
        "print(pronomes)\n",
        "pronomes.insert(0, \"Tempos\")\n",
        "print(pronomes)\n",
        "\n",
        "for i in pronomes:\n",
        "  print(i)"
      ],
      "metadata": {
        "colab": {
          "base_uri": "https://localhost:8080/"
        },
        "id": "Pht_Uphshx_b",
        "outputId": "1151a04a-51f0-47a5-f0aa-1515fb2cd7e7"
      },
      "execution_count": null,
      "outputs": [
        {
          "output_type": "stream",
          "name": "stdout",
          "text": [
            "['Eu', 'Tu', 'Ele', 'Nós', 'Vós', 'Eles']\n",
            "['Eu', 'Tu', 'Ele', 'Nós', 'Vós', 'Eles', 'Pessoas']\n",
            "['Tempos', 'Eu', 'Tu', 'Ele', 'Nós', 'Vós', 'Eles', 'Pessoas']\n",
            "Tempos\n",
            "Eu\n",
            "Tu\n",
            "Ele\n",
            "Nós\n",
            "Vós\n",
            "Eles\n",
            "Pessoas\n"
          ]
        }
      ]
    },
    {
      "cell_type": "code",
      "source": [
        "# Coloca os elementos da lista em ordem crescente\n",
        "pronomes.sort()\n",
        "print(pronomes)"
      ],
      "metadata": {
        "colab": {
          "base_uri": "https://localhost:8080/"
        },
        "id": "yI-XU-OfjRsY",
        "outputId": "168c1170-b2c2-430d-b48f-26eaba88c273"
      },
      "execution_count": null,
      "outputs": [
        {
          "output_type": "stream",
          "name": "stdout",
          "text": [
            "['Ele', 'Eles', 'Eu', 'Nós', 'Pessoas', 'Tempos', 'Tu', 'Vós']\n"
          ]
        }
      ]
    },
    {
      "cell_type": "code",
      "source": [
        "# Organizer os elementos da lista em ordem decrescente\n",
        "pronomes.sort(reverse = True)\n",
        "print(pronomes)"
      ],
      "metadata": {
        "colab": {
          "base_uri": "https://localhost:8080/"
        },
        "id": "CFwhbKeojzFj",
        "outputId": "9f559d89-5914-4ea1-8044-efc632ed8922"
      },
      "execution_count": null,
      "outputs": [
        {
          "output_type": "stream",
          "name": "stdout",
          "text": [
            "['Vós', 'Tu', 'Tempos', 'Pessoas', 'Nós', 'Eu', 'Eles', 'Ele']\n"
          ]
        }
      ]
    },
    {
      "cell_type": "code",
      "source": [
        "# Exibindo os nomes das cidades em ordem crescente e depois decrescente\n",
        "lista2.sort()\n",
        "print(lista2)\n",
        "lista2.sort(reverse = True)\n",
        "print(lista2)"
      ],
      "metadata": {
        "colab": {
          "base_uri": "https://localhost:8080/"
        },
        "id": "B5fdT4Klkl_c",
        "outputId": "a4ca447c-caa7-4301-beb4-bef7e457b186"
      },
      "execution_count": null,
      "outputs": [
        {
          "output_type": "stream",
          "name": "stdout",
          "text": [
            "['Barueri', 'Cajamar', 'Jundiaí', 'Stna Parníba', 'São Paulo']\n",
            "['São Paulo', 'Stna Parníba', 'Jundiaí', 'Cajamar', 'Barueri']\n"
          ]
        }
      ]
    },
    {
      "cell_type": "code",
      "source": [
        "tupla = (7, 4, 22, 9, 6, 2)\n",
        "tupla"
      ],
      "metadata": {
        "colab": {
          "base_uri": "https://localhost:8080/"
        },
        "id": "f9fW0MOatpdo",
        "outputId": "785474db-6b8d-4ea9-f0c1-d331925ae9d8"
      },
      "execution_count": null,
      "outputs": [
        {
          "output_type": "execute_result",
          "data": {
            "text/plain": [
              "(7, 4, 22, 9, 6, 2)"
            ]
          },
          "metadata": {},
          "execution_count": 23
        }
      ]
    },
    {
      "cell_type": "code",
      "source": [
        "# Colocando os elementos de uma tupla em ordem crescente\n",
        "print(tupla)\n",
        "x = sorted(tupla)\n",
        "print(x)"
      ],
      "metadata": {
        "colab": {
          "base_uri": "https://localhost:8080/"
        },
        "id": "U2tO_rufu2jt",
        "outputId": "e6bc3621-db78-491a-e676-628294048c7d"
      },
      "execution_count": null,
      "outputs": [
        {
          "output_type": "stream",
          "name": "stdout",
          "text": [
            "(7, 4, 22, 9, 6, 2)\n",
            "\n"
          ]
        }
      ]
    },
    {
      "cell_type": "code",
      "source": [
        "# Colocando os elementos da Tupla em ordem decrescente\n",
        "print(tupla)\n",
        "print(sorted(tupla,reverse=True))"
      ],
      "metadata": {
        "colab": {
          "base_uri": "https://localhost:8080/"
        },
        "id": "wWh-mo8ewb38",
        "outputId": "65555015-5736-4f39-b47b-d1cf785eaae2"
      },
      "execution_count": null,
      "outputs": [
        {
          "output_type": "stream",
          "name": "stdout",
          "text": [
            "(7, 4, 22, 9, 6, 2)\n",
            "[22, 9, 7, 6, 4, 2]\n"
          ]
        }
      ]
    },
    {
      "cell_type": "code",
      "source": [
        "#Tupla com dados heterogêneos\n",
        "tupla2 = (2233, \"Carla Maria\", \"carla@hotmail\", 1.65, 34, True)\n",
        "print(tupla2)\n",
        "# não é possivel colocar Tuplas em ordem com dados heterogêneos\n"
      ],
      "metadata": {
        "colab": {
          "base_uri": "https://localhost:8080/"
        },
        "id": "6ZKd3gGvxYYA",
        "outputId": "42f785c1-4932-4df2-a3f9-4bfbf6aedc7b"
      },
      "execution_count": null,
      "outputs": [
        {
          "output_type": "stream",
          "name": "stdout",
          "text": [
            "(2233, 'Carla Maria', 'carla@hotmail', 1.65, 34, True)\n",
            "0\n"
          ]
        }
      ]
    },
    {
      "cell_type": "code",
      "source": [
        "listaa = list()\n",
        "listab = list()\n",
        "\n",
        "for i in range(5):\n",
        "  num = int(input(\"Digite um número: \"))\n",
        "  listaa.append(num)\n",
        "  listab.append(listaa[i] * listaa[i])\n",
        "\n",
        "#print(listaa, listab)\n",
        "\n",
        "tupla = (listaa, listab)\n",
        "#print(tupla)\n",
        "\n",
        "listaa[2] = 444\n",
        "listab.append(1000)\n",
        "print(tupla)\n"
      ],
      "metadata": {
        "id": "UOj4UViF8FHt"
      },
      "execution_count": null,
      "outputs": []
    },
    {
      "cell_type": "code",
      "source": [
        "notas  = list()\n",
        "\n",
        "for i in range(4):\n",
        "  notas.append(float(input(\"Nota do Aluno: \")))\n",
        "\n",
        "print(f\"A maior nota dos alunos é: {max(notas)}\")\n",
        "print(f\"A menor nota dos alunos é: {min(notas)}\")\n",
        "print(f\"A media do aluno foi: {sum(notas)/len(notas)}:.2f\")"
      ],
      "metadata": {
        "colab": {
          "base_uri": "https://localhost:8080/"
        },
        "id": "LNbHj96a-Gjw",
        "outputId": "bf8306bc-c813-4958-ac4d-da986a5fade5"
      },
      "execution_count": null,
      "outputs": [
        {
          "output_type": "stream",
          "name": "stdout",
          "text": [
            "Nota do Aluno: 4\n",
            "Nota do Aluno: 1\n",
            "Nota do Aluno: 2\n",
            "Nota do Aluno: 2\n",
            "A maior nota dos alunos é: 4.0\n",
            "A menor nota dos alunos é: 1.0\n",
            "A media do aluno foi: 2.25\n"
          ]
        }
      ]
    },
    {
      "cell_type": "markdown",
      "source": [
        "**FILA**  (fifo = first in first out)<br>\n",
        "  Enfileirar (enqueue) <br>\n",
        "  Desenfileirar (dequeue)<br>\n",
        "  Testar fila cheia (isFull())<br>\n",
        "  Testar fila vazia (isEmpty())\n",
        "  ****\n",
        "  **PILHA** (lifo = last in first out)<br>\n",
        "    Empilhar (pop) <br>\n",
        "    Desempilhar (push) <br>\n",
        "    Testar pilha cheia (isFull()) <br>\n",
        "    Testar pilha vazia (isEmpty()) <br>\n",
        "    Retornar elemento ques está no topo (Top())\n",
        "\n",
        "\n",
        "\n"
      ],
      "metadata": {
        "id": "vBnK2cRz6b0y"
      }
    },
    {
      "cell_type": "markdown",
      "source": [
        "##**Implementação FIFO:**\n",
        " first in first out - o primeiro elemento que entra na fila será o primeiro a sair."
      ],
      "metadata": {
        "id": "rF-LGXktFhp5"
      }
    },
    {
      "cell_type": "code",
      "source": [
        "from collections import deque\n",
        "\n",
        "#Cria uma fila - FIFO\n",
        "fila = deque()\n",
        "\n",
        "#Adiciona elementos à Fila (Enqueue)\n",
        "fila.append('A345')\n",
        "fila.append('B168')\n",
        "fila.append('C669')\n",
        "\n",
        "#Exibir o conteúdo da Fila\n",
        "print(fila)\n",
        "fila.popleft()\n",
        "print(fila)\n",
        "fila.popleft()\n",
        "print(fila)\n",
        "fila.popleft()\n",
        "fila.append('D223')\n",
        "print(fila)\n",
        "\n",
        "#Verifica se a fila está vazia\n",
        "if not fila:\n",
        "  print(\"A Fila está vazia!\")\n",
        "else:\n",
        "  print(\"A Fila não está vazia!\")"
      ],
      "metadata": {
        "colab": {
          "base_uri": "https://localhost:8080/"
        },
        "id": "q16phV_86CtC",
        "outputId": "a20e700e-b572-4fda-bf44-fb8fa5292238"
      },
      "execution_count": null,
      "outputs": [
        {
          "output_type": "stream",
          "name": "stdout",
          "text": [
            "deque(['A345', 'B168', 'C669'])\n",
            "deque(['B168', 'C669'])\n",
            "deque(['C669'])\n",
            "deque(['D223'])\n",
            "A Fila não está vazia!\n"
          ]
        }
      ]
    },
    {
      "cell_type": "markdown",
      "source": [
        "##**LIFO:**\n",
        "Last in first out - O último elemento a entrar na pilha sera o primeiro a sair dela."
      ],
      "metadata": {
        "id": "f4NC4PVgf2-U"
      }
    },
    {
      "cell_type": "code",
      "source": [
        "#Cria uma Pilha LIFO\n",
        "pilha = []\n",
        "\n",
        "#Adicionar elementos na Pilha\n",
        "pilha.append(200)\n",
        "pilha.append(180)\n",
        "pilha.append(320)\n",
        "print(\"Conteúdo da Pilha\")\n",
        "print(pilha)\n",
        "\n",
        "#Remove e imprimi o último elemento adicionado - Topo\n",
        "topo = pilha.pop()\n",
        "print(f\"O último elemento foi removido: {topo}\")\n",
        "print(pilha)\n",
        "\n",
        "topo = pilha.pop()\n",
        "print(pilha)\n",
        "\n",
        "topo = pilha.pop()\n",
        "print(pilha)\n",
        "\n",
        "pilha.append(312)\n",
        "\n",
        "print(pilha)\n",
        "\n",
        "if not pilha:\n",
        "  print(\"A pilha está vazia!\")\n",
        "else:\n",
        "  print(\"A pilha não está vazia!\")"
      ],
      "metadata": {
        "colab": {
          "base_uri": "https://localhost:8080/"
        },
        "id": "Czpgxsm6gEqd",
        "outputId": "a1fa0ec5-58a0-4b00-c364-0acfeb462eaf"
      },
      "execution_count": null,
      "outputs": [
        {
          "output_type": "stream",
          "name": "stdout",
          "text": [
            "Conteúdo da Pilha\n",
            "[200, 180, 320]\n",
            "O último elemento foi removido: 320\n",
            "[200, 180]\n",
            "[200]\n",
            "[]\n",
            "[312]\n",
            "A pilha não está vazia!\n"
          ]
        }
      ]
    },
    {
      "cell_type": "markdown",
      "source": [
        "#**Estruturas de Dados: **\n",
        "Implementação das estruturas Fila (FIFO)\n",
        "Collections, escrevendo as funcionalidades:<br>\n",
        " Enfileirar (enqueue) <br>\n",
        "  Desenfileirar (dequeue)<br>\n",
        "  Testar fila cheia (isFull())<br>\n",
        "  Testar fila vazia (isEmpty())\n",
        "\n",
        "  Classe é a definição de um objeto"
      ],
      "metadata": {
        "id": "263Nv7Iv_f5P"
      }
    },
    {
      "cell_type": "code",
      "source": [
        "from collections import deque\n",
        "\n",
        "class Fila:\n",
        "\n",
        "  #Método principal invocado para instaciar o objeto\n",
        "  def __init__(self):\n",
        "    self.itens = deque()\n",
        "\n",
        "  #Método para inserir um elemento na fila\n",
        "  def enqueue(self,item):\n",
        "    self.itens.append(item)\n",
        "  #Método para retirar um elemento da fila\n",
        "  def dequeue(self):\n",
        "    return self.itens.popleft()\n",
        "  #Método para verificar se não há mais elementos na fila\n",
        "  def isEmpty(self,itens):\n",
        "    return len(self.itens) == 0\n",
        "  #Método para verificar o tamanho da fila\n",
        "  def size(self):\n",
        "    return len(self.itens)\n",
        "  #Método para mostrar o conteúdo da fila\n",
        "  def showFIFO(self):\n",
        "    print(self.itens)\n",
        "\n",
        "\n",
        "#Uso da classe Fila\n",
        "\n",
        "fila = Fila()\n",
        "fila.enqueue(555)\n",
        "fila.enqueue(19)\n",
        "fila.enqueue(1001)\n",
        "fila.enqueue(54)\n",
        "fila.showFIFO()\n",
        "fila.dequeue()\n",
        "fila.showFIFO()\n",
        "print(fila.size())"
      ],
      "metadata": {
        "colab": {
          "base_uri": "https://localhost:8080/"
        },
        "id": "Qy-2rsULA-0F",
        "outputId": "c174ce70-b6d4-4663-9b8f-549a9bf4e815"
      },
      "execution_count": null,
      "outputs": [
        {
          "output_type": "stream",
          "name": "stdout",
          "text": [
            "deque([555, 19, 1001, 54])\n",
            "deque([19, 1001, 54])\n",
            "3\n"
          ]
        }
      ]
    },
    {
      "cell_type": "markdown",
      "source": [
        "##**LIFO - Pilha:**\n",
        "Implementação do conceito de Pilha com os métodos \" push \", \"pop\", \"isEmpty\",\"top\""
      ],
      "metadata": {
        "id": "p2S4HvILZOWT"
      }
    },
    {
      "cell_type": "code",
      "source": [
        "class Pilha:\n",
        "\n",
        "  #Método que instancia um objeto do tipo Pilha em memória\n",
        "  def __init__(self):\n",
        "    self.dados = []\n",
        "\n",
        "  #Método para inserir um elemento no topo da Pilha\n",
        "  def push(self,elem):\n",
        "    self.dados.append(elem)\n",
        "\n",
        "  #Método para retirar um elemento do topo da Pilha\n",
        "  def pop(self):\n",
        "    if self.isEmpty() == True:\n",
        "      print(\"Pilha vazia\")\n",
        "    else:\n",
        "      return self.dados.pop()\n",
        "\n",
        "  #Método para verificar se a Pilha está vazia\n",
        "  def isEmpty(self):\n",
        "    return self.dados == []\n",
        "\n",
        "  #Método para retornar elemento no topo da Pilha\n",
        "  def top (self):\n",
        "    if self.isEmpty() == True:\n",
        "      print(\"Pilha vazia\")\n",
        "    else:\n",
        "      return self.dados[-1]\n",
        "\n",
        "  #Método para retornar quantos elementos tem na Pilha\n",
        "  def size(self):\n",
        "    return len(self.dados)\n",
        "\n",
        "  #Método para exibir todo o conteúdo da Pilha\n",
        "  def showLIFO(self):\n",
        "    print(self.dados)\n",
        "\n",
        "\n",
        "#Testando o funcionamento da classe Pilha\n",
        "\n",
        "zepriquito = Pilha()\n",
        "\n",
        "zepriquito.push(300)\n",
        "zepriquito.push(212)\n",
        "zepriquito.push(14)\n",
        "zepriquito.push(1069)\n",
        "zepriquito.showLIFO()\n",
        "zepriquito.pop()\n",
        "zepriquito.showLIFO()\n",
        "print(f'Elemento do topo: {zepriquito.top()}')\n",
        "zepriquito.pop()\n",
        "zepriquito.showLIFO()\n",
        "print(f'Elemento do topo: {zepriquito.top()}')\n",
        "print(f'Quantidade de elementos da Pilha: {zepriquito.size()}')\n",
        "zepriquito.pop()\n",
        "zepriquito.showLIFO()\n",
        "print(f'Elemento do topo: {zepriquito.top()}')\n",
        "zepriquito.pop()\n",
        "zepriquito.showLIFO()\n",
        "zepriquito.pop()\n",
        "zepriquito.showLIFO()\n",
        "zepriquito.top()\n"
      ],
      "metadata": {
        "colab": {
          "base_uri": "https://localhost:8080/"
        },
        "id": "d_o-ZvjhZy8h",
        "outputId": "0e0984ce-1372-4e48-89cc-d11813f12279"
      },
      "execution_count": null,
      "outputs": [
        {
          "output_type": "stream",
          "name": "stdout",
          "text": [
            "[300, 212, 14, 1069]\n",
            "[300, 212, 14]\n",
            "Elemento do topo: 14\n",
            "[300, 212]\n",
            "Elemento do topo: 212\n",
            "Quantidade de elementos da Pilha: 2\n",
            "[300]\n",
            "Elemento do topo: 300\n",
            "[]\n",
            "Pilha vazia\n",
            "[]\n",
            "Pilha vazia\n"
          ]
        }
      ]
    }
  ]
}