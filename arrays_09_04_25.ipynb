{
  "nbformat": 4,
  "nbformat_minor": 0,
  "metadata": {
    "colab": {
      "provenance": [],
      "authorship_tag": "ABX9TyMalc/rYee/eqCXcmQTpzGT",
      "include_colab_link": true
    },
    "kernelspec": {
      "name": "python3",
      "display_name": "Python 3"
    },
    "language_info": {
      "name": "python"
    }
  },
  "cells": [
    {
      "cell_type": "markdown",
      "metadata": {
        "id": "view-in-github",
        "colab_type": "text"
      },
      "source": [
        "<a href=\"https://colab.research.google.com/github/daviStudentDS/4Bimestre-2022DAVIeLUCAS/blob/main/arrays_09_04_25.ipynb\" target=\"_parent\"><img src=\"https://colab.research.google.com/assets/colab-badge.svg\" alt=\"Open In Colab\"/></a>"
      ]
    },
    {
      "cell_type": "markdown",
      "source": [
        "#**Arrays: São estruturas de dadsos pra armazenar informações do mesmo tipo, ou seja, homogêneas. Podem ser uni, bi ou tridimensionais.\n",
        "\n",
        "Para trabalhar com arrayz em pyton, devemos importar uma biblioteca chamada NumPy\n",
        "\n",
        "```\n",
        "# Isto está formatado como código\n",
        "```\n",
        "\n"
      ],
      "metadata": {
        "id": "RzgQRDG6sDou"
      }
    },
    {
      "cell_type": "markdown",
      "source": [
        "##**Vetores:** São arrayz unidimensionais para armazenar elementos do mesmo tipo, só possuem a dimensão X. Os indices sempre iniciam em 0(zero) e são representados por variáveis do tipo inteiro;"
      ],
      "metadata": {
        "id": "-5fuPH-3DW_L"
      }
    },
    {
      "cell_type": "code",
      "source": [
        "import numpy as np\n",
        "\n",
        "lista = [4,6,8,9,0,78]\n",
        "tupla = (4.8,6,6,4)\n",
        "vetor = np.array([4,6,0,39,5,3,4, 5.9, \"macaco\"])\n",
        "\n",
        "#print(vetor[6])\n",
        "\n",
        "#imprimindo estruturas\n",
        "\n",
        "print(lista)\n",
        "print(tupla)\n",
        "print(vetor)\n",
        "print(type(vetor))\n",
        "print(type(lista))\n",
        "print(type(tupla))\n",
        "\n",
        "print(vetor.dtype) #mostra o tipo do dado armazenado no vetor\n",
        "print(vetor.shape) #mostra a quantidade de elementos na sua estrutura e sua dimensão\n",
        "tamanho = len(vetor) #mostra a quantidade de elementos dentro do vertor\n",
        "print(tamanho)\n",
        "\n",
        "\n",
        "#Laço de repetição para exibir todo o conteúdo do array\n",
        "#for i in range(len(vetor)):\n",
        "  #print(vetor[i])\n",
        "\n",
        "\n",
        "\n",
        "\n",
        "\n",
        "\n",
        "\n",
        "\n",
        "lista1 = [23, \"pedro\", 1.82, True]\n",
        "print(lista1)\n",
        "##lista = []\n",
        "##tupla = ()\n",
        "#array = ([])"
      ],
      "metadata": {
        "colab": {
          "base_uri": "https://localhost:8080/"
        },
        "id": "M384H_d0D_Rj",
        "outputId": "ede136e1-8cca-4f2f-f853-faedecd04aea"
      },
      "execution_count": 25,
      "outputs": [
        {
          "output_type": "stream",
          "name": "stdout",
          "text": [
            "[4, 6, 8, 9, 0, 78]\n",
            "(4.8, 6, 6, 4)\n",
            "['4' '6' '0' '39' '5' '3' '4' '5.9' 'macaco']\n",
            "<class 'numpy.ndarray'>\n",
            "<class 'list'>\n",
            "<class 'tuple'>\n",
            "<U32\n",
            "(9,)\n",
            "9\n",
            "[23, 'pedro', 1.82, True]\n"
          ]
        }
      ]
    },
    {
      "cell_type": "markdown",
      "source": [
        "##**Matriz:** Estruturaa Multivalorada, Heterogênea Bidimensional. Também tem seus elementos acessados por meio de indices (x,y / i,j) que são representados por variáveis do tipo inteiro."
      ],
      "metadata": {
        "id": "Q7jlP74JNNT7"
      }
    },
    {
      "cell_type": "code",
      "source": [
        "import numpy as np\n",
        "\n",
        "matriz = np.array([[14,21,3,4], [55, 5, 81, 4]]) #matriz quadrada de ordem 3x3\n",
        "print(matriz)\n",
        "print(matriz.dtype)\n",
        "print(matriz.shape)\n",
        "print(type(matriz))\n",
        "print(matriz[1, 2])\n",
        "tamanhoMat = len(matriz)\n",
        "print(tamanhoMat)\n",
        "\n"
      ],
      "metadata": {
        "colab": {
          "base_uri": "https://localhost:8080/"
        },
        "id": "yPTGtibCNs_6",
        "outputId": "34e987ab-eae4-407e-a9b9-297a3cd84210"
      },
      "execution_count": 53,
      "outputs": [
        {
          "output_type": "stream",
          "name": "stdout",
          "text": [
            "[[14 21  3  4]\n",
            " [55  5 81  4]]\n",
            "int64\n",
            "(2, 4)\n",
            "<class 'numpy.ndarray'>\n",
            "81\n",
            "2\n"
          ]
        }
      ]
    }
  ]
}