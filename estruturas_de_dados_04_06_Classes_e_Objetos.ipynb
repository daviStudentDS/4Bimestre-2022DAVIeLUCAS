{
  "nbformat": 4,
  "nbformat_minor": 0,
  "metadata": {
    "colab": {
      "provenance": [],
      "authorship_tag": "ABX9TyN27HJ5xgbuQZPKh12uASt4",
      "include_colab_link": true
    },
    "kernelspec": {
      "name": "python3",
      "display_name": "Python 3"
    },
    "language_info": {
      "name": "python"
    }
  },
  "cells": [
    {
      "cell_type": "markdown",
      "metadata": {
        "id": "view-in-github",
        "colab_type": "text"
      },
      "source": [
        "<a href=\"https://colab.research.google.com/github/daviStudentDS/4Bimestre-2022DAVIeLUCAS/blob/main/estruturas_de_dados_04_06_Classes_e_Objetos.ipynb\" target=\"_parent\"><img src=\"https://colab.research.google.com/assets/colab-badge.svg\" alt=\"Open In Colab\"/></a>"
      ]
    },
    {
      "cell_type": "markdown",
      "source": [
        "#**Classes e Objetos**\n",
        "Classes são moldes para gerar objetos em memória. As classes possuem atributos e métodos.  \n",
        "\n",
        "\n",
        "**Atributos** são características físicas do objeto\n",
        "\n",
        "\n",
        "**Métodos** são características comportamentais do objeto\n",
        "\n",
        "\n",
        "Os objetos criados em memória são chamados de **Instâncias**"
      ],
      "metadata": {
        "id": "TwvGkoZxEzZy"
      }
    },
    {
      "cell_type": "code",
      "execution_count": null,
      "metadata": {
        "id": "eG2zKuqWEwx9"
      },
      "outputs": [],
      "source": [
        "'''\n",
        "Classe para criar um objeto do tipo Pessoa\n",
        "Nesta classe vamos declarar as características\n",
        "físicas dos objetos (atributos) e também\n",
        "as características comportamentais (métodos).\n",
        "\n",
        "Por fim serão criadas instâncias (objetos em memória)\n",
        "Autor: Luís Davi Gomes de Santana\n",
        "Data: Classe criada em 04/06/2025\n",
        "'''\n",
        "\n",
        "      #Toda vez que declarar uma classe, usar class\n",
        "      #se você criar uma classe conta, toda nome de\n",
        "      #classe começa com maiúscula, ou seja\n",
        "      #\"class Conta\", caso o nome da classe seja um\n",
        "      #nome composto, as palavras devem ser ligadas\n",
        "      #por \"_\" e a inicial de cada palavra deve ser\n",
        "      #maiúscula\n",
        "\n",
        "\n",
        "#Aqui se declara uma classe\n",
        "class Pessoa:\n",
        "\n",
        "  #Método construtor da classe responsável por Construir um objeto em memória\n",
        "  def __init__(self):\n",
        "    self.nome = input(\"Nome:\")\n",
        "    self.idade = int(input(\"Idade:\"))\n",
        "    self.altura = float(input(\"Altura:\"))\n",
        "    self.peso = float(input(\"Peso:\"))\n",
        "\n",
        "\n",
        "  #Método comum para exibir os dados do objeto do tipo Pessoa\n",
        "  def exibirDadosPessoa(self):\n",
        "    print(f'\\n{self.nome} que tem altura de {self.altura} tem {self.idade} anos, sendo um cidadão classificado como {self.classificar_Idade()} e {self.peso} kilos.')\n",
        "    print(f'IMC: {self.calcular_IMC():.3f} - {self.classificar_IMC()}') #invoke do método calcular_IMC() #:.3f - formatação para aparecer apenas 3 números após a vírgula, ou no python, após o ponto\n",
        "\n",
        "    # print(f'{self.idade}')\n",
        "    # print(f'{self.altura}')\n",
        "    # print(f'{self.altura}')\n",
        "\n",
        "  #Método comum para calcular o IMC de uma pessoa\n",
        "  def calcular_IMC(self):\n",
        "    imc = self.peso / (self.altura**2)\n",
        "    return imc\n",
        "\n",
        "  #Método comum para classificar o IMC\n",
        "  def classificar_IMC(self):\n",
        "    imc = self.calcular_IMC()\n",
        "    if imc <= 18.5:\n",
        "      return('Baixo Peso')\n",
        "    elif  imc <= 25:\n",
        "      return ('Peso Normal')\n",
        "    elif  imc <= 30:\n",
        "      return ('Sobrepeso')\n",
        "    elif imc <= 35:\n",
        "      return ('Obsesidade grau I - Sobrepeso')\n",
        "    elif imc <= 40:\n",
        "      return ('Obesidade grau II - Severa')\n",
        "    else:\n",
        "      return ('Obesidade grau III - Mórbida')\n",
        "\n",
        "\n",
        "  def classificar_Idade(self):\n",
        "    idade = self.idade\n",
        "    if idade <= 12:\n",
        "      return('Criança')\n",
        "    elif  idade <= 19:\n",
        "      return ('Adolescente')\n",
        "    elif  idade <= 65:\n",
        "      return ('Adulto')\n",
        "    else:\n",
        "      return ('Idoso')\n",
        "\n",
        "\n",
        "\n",
        "\n",
        "\n"
      ]
    },
    {
      "cell_type": "code",
      "source": [
        "\n",
        "p1 = Pessoa() #Aqui está criando instância\n",
        "p1.exibirDadosPessoa() #invoke (chama o método para ser executado)\n",
        "print(\"\\n\")\n",
        "p2 = Pessoa() #Aqui está criando instância\n",
        "p2.exibirDadosPessoa() #invoke (chama o método para ser executado)\n",
        "print(\"\\n\")\n",
        "p3 = Pessoa() #Aqui está criando instância\n",
        "p3.exibirDadosPessoa() #invoke (chama o método para ser executado)\n",
        "\n"
      ],
      "metadata": {
        "id": "dI-AaXDGRKGb"
      },
      "execution_count": null,
      "outputs": []
    }
  ]
}