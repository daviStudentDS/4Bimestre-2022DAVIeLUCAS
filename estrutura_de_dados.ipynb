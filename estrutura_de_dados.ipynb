{
  "nbformat": 4,
  "nbformat_minor": 0,
  "metadata": {
    "colab": {
      "provenance": [],
      "authorship_tag": "ABX9TyM/G3l1cto0uHTrT6EDK/f5",
      "include_colab_link": true
    },
    "kernelspec": {
      "name": "python3",
      "display_name": "Python 3"
    },
    "language_info": {
      "name": "python"
    }
  },
  "cells": [
    {
      "cell_type": "markdown",
      "metadata": {
        "id": "view-in-github",
        "colab_type": "text"
      },
      "source": [
        "<a href=\"https://colab.research.google.com/github/daviStudentDS/4Bimestre-2022DAVIeLUCAS/blob/main/estrutura_de_dados.ipynb\" target=\"_parent\"><img src=\"https://colab.research.google.com/assets/colab-badge.svg\" alt=\"Open In Colab\"/></a>"
      ]
    },
    {
      "cell_type": "markdown",
      "source": [
        "Filas (FIFO - First In First Out)\n",
        "\n",
        "Funcionalidades:\n",
        "- Enfileirar(Enqueue)\n",
        "- Desenfileirar(Dequeue)\n",
        "- Testar fila cheia - isFull()\n",
        "- Testar fila cheia - isEmpty()\n",
        "\n",
        "---\n",
        "\n",
        "Pilhas (LIFO - Last In First Out)\n",
        "\n",
        "Funcionalidades:\n",
        "- Empilhar(Pop)\n",
        "- Desenpilhar(Push)\n",
        "- Testar pilha cheia - isFull()\n",
        "- Testar pilha vazia - isEmpty()\n",
        "- Retornar elemento que está no topo\n",
        "\n"
      ],
      "metadata": {
        "id": "ABKeYWZE6OZW"
      }
    },
    {
      "cell_type": "markdown",
      "source": [
        "#**FIFO:**\n",
        "# First In Firts Out - O primeira elemento que entra será o primeiro a sair\n"
      ],
      "metadata": {
        "id": "TpFWu-f4F9cF"
      }
    },
    {
      "cell_type": "code",
      "source": [
        "from collections import deque\n",
        "\n",
        "#Cria uma fila FIFO\n",
        "fila = deque();\n",
        "\n",
        "\n",
        "#Adiciona elementos à Fila(Enqueue - Enfileirar)\n",
        "fila.append('A345')\n",
        "fila.append('B168')\n",
        "fila.append('C669')\n",
        "\n",
        "#Exibir o conteúdo da Fila\n",
        "print(fila)\n",
        "\n",
        "#Retirar um elemento da Fila\n",
        "# fila.pop()    #\n",
        "fila.popleft()  #método de retirada em fila\n",
        "print(fila)\n",
        "fila.popleft()  #método de retirada em fila\n",
        "print(fila)\n",
        "fila.popleft()  #método de retirada em fila\n",
        "fila.append('D224')\n",
        "print(fila)\n",
        "\n",
        "\n",
        "#verifica se a fila está vazia\n",
        "if not fila:\n",
        "  print(\"Fila Vazia\")\n",
        "else:\n",
        "  print(\"A fila está cheia\")\n",
        "\n",
        "\n"
      ],
      "metadata": {
        "colab": {
          "base_uri": "https://localhost:8080/"
        },
        "id": "gKS6hb2CCxRy",
        "outputId": "3d8750a5-2043-4003-e99d-6ffad7adae25"
      },
      "execution_count": null,
      "outputs": [
        {
          "output_type": "stream",
          "name": "stdout",
          "text": [
            "deque(['A345', 'B168', 'C669'])\n",
            "deque(['B168', 'C669'])\n",
            "deque(['C669'])\n",
            "deque(['D224'])\n",
            "Fila Cheia\n"
          ]
        }
      ]
    },
    {
      "cell_type": "markdown",
      "source": [
        "#**LIFO:**\n",
        "# Last In Firts Out - O último elemento que entra será o primeiro a sair"
      ],
      "metadata": {
        "id": "u7ON14_qf3V8"
      }
    },
    {
      "cell_type": "code",
      "source": [
        "#Cria uma Pilha LIFO\n",
        "pilha = []\n",
        "\n",
        "#Adicionar elementos na pilha\n",
        "pilha.append(200)\n",
        "pilha.append(180)\n",
        "pilha.append(320)\n",
        "print(\"Conteúdo da pilha\")\n",
        "\n",
        "#Exibir o conteúdo da pilha\n",
        "print(pilha)\n",
        "\n",
        "#Remove e imprime o último elemento adicionado - TOPO\n",
        "topo = pilha.pop()\n",
        "print(f'O último elemento remvido foi: {topo}')\n",
        "print(f'A fila agora se mantém como: {pilha}')\n",
        "\n",
        "topo = pilha.pop()\n",
        "print(pilha)\n",
        "topo = pilha.pop()\n",
        "print(pilha)\n",
        "\n",
        "\n",
        "if not pilha:\n",
        "  print(\"Pilha Cheia\")\n",
        "else:\n",
        "  print(\"Pilha Vazia\")\n",
        "\n",
        "\n",
        "\n",
        "\n"
      ],
      "metadata": {
        "colab": {
          "base_uri": "https://localhost:8080/"
        },
        "id": "thtPNlWggGPE",
        "outputId": "d133a493-7fb9-4e7c-ebec-b9463bbf6b92"
      },
      "execution_count": 22,
      "outputs": [
        {
          "output_type": "stream",
          "name": "stdout",
          "text": [
            "Conteúdo da pilha\n",
            "[200, 180, 320]\n",
            "O último elemento remvido foi: 320\n",
            "A fila agora se mantém como: [200, 180]\n",
            "[200]\n",
            "[]\n",
            "Pilha Cheia\n"
          ]
        }
      ]
    }
  ]
}